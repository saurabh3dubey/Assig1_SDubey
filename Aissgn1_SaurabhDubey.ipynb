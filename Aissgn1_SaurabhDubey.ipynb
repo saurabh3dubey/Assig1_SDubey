{
 "cells": [
  {
   "cell_type": "markdown",
   "id": "761845c1-01a5-49bc-b6e1-74018ae31cfe",
   "metadata": {},
   "source": [
    "### ASSIGNMENT 1 SAURABH DUBEY"
   ]
  },
  {
   "cell_type": "markdown",
   "id": "22e1823e-0962-44f6-afb9-5f1696296778",
   "metadata": {},
   "source": [
    "VARIABLE BASED ANSWER 1"
   ]
  },
  {
   "cell_type": "markdown",
   "id": "040b6949-3086-424f-bc39-4b57a6f0f6bb",
   "metadata": {},
   "source": [
    "x=3\n",
    "y=9"
   ]
  },
  {
   "cell_type": "code",
   "execution_count": 27,
   "id": "1637336a-a09a-45a1-89ac-646d3f0633f9",
   "metadata": {},
   "outputs": [],
   "source": [
    "x=x+y\n",
    "y=x-y\n",
    "x=x-y"
   ]
  },
  {
   "cell_type": "code",
   "execution_count": 28,
   "id": "7a2e459e-5e09-43f7-afb8-b12c0bee7a82",
   "metadata": {},
   "outputs": [
    {
     "data": {
      "text/plain": [
       "3"
      ]
     },
     "execution_count": 28,
     "metadata": {},
     "output_type": "execute_result"
    }
   ],
   "source": [
    "x"
   ]
  },
  {
   "cell_type": "code",
   "execution_count": 29,
   "id": "76138663-57d4-4a3e-b152-ea32377cf657",
   "metadata": {},
   "outputs": [
    {
     "data": {
      "text/plain": [
       "9"
      ]
     },
     "execution_count": 29,
     "metadata": {},
     "output_type": "execute_result"
    }
   ],
   "source": [
    "y"
   ]
  },
  {
   "cell_type": "markdown",
   "id": "9c12741b-ee70-4cbd-91a0-48772ab8a386",
   "metadata": {},
   "source": [
    "VARIABLE BASED ANSWER 2"
   ]
  },
  {
   "cell_type": "code",
   "execution_count": 31,
   "id": "263f27c2-2736-4e86-9679-e6356bedf9ba",
   "metadata": {},
   "outputs": [
    {
     "name": "stdin",
     "output_type": "stream",
     "text": [
      " 3\n",
      " 6\n"
     ]
    }
   ],
   "source": [
    "#TAKING INPUT\n",
    "L= int(input())\n",
    "W= int(input())"
   ]
  },
  {
   "cell_type": "code",
   "execution_count": 32,
   "id": "582ff5a1-dcd3-49fa-b86f-1b5390db96e7",
   "metadata": {},
   "outputs": [],
   "source": [
    "A=L*W"
   ]
  },
  {
   "cell_type": "code",
   "execution_count": 33,
   "id": "babb0cca-70e5-490c-a947-4d4d6b67540c",
   "metadata": {},
   "outputs": [
    {
     "name": "stdout",
     "output_type": "stream",
     "text": [
      "area =  18\n"
     ]
    }
   ],
   "source": [
    "print('area = ',A)\n"
   ]
  },
  {
   "cell_type": "markdown",
   "id": "fd3aaef1-2fd2-4d2c-a536-32523840c198",
   "metadata": {},
   "source": [
    "VARIABLE BASED ANSWER 3"
   ]
  },
  {
   "cell_type": "code",
   "execution_count": 24,
   "id": "f5ee8ed1-d4bd-417b-91e2-eea7d306216e",
   "metadata": {},
   "outputs": [
    {
     "name": "stdin",
     "output_type": "stream",
     "text": [
      " 33.33\n"
     ]
    }
   ],
   "source": [
    "#TAKING INPUT IN CELSIUS \n",
    "C= float(input())"
   ]
  },
  {
   "cell_type": "code",
   "execution_count": 25,
   "id": "f3f77a13-5fd2-4dda-bbfe-c1f59eaca650",
   "metadata": {},
   "outputs": [],
   "source": [
    "#converting celsius to Farenheit\n",
    "F = (C * 9/5) + 32"
   ]
  },
  {
   "cell_type": "code",
   "execution_count": 26,
   "id": "ffff5d1e-df86-4d1f-b7f2-cb0224ad45bf",
   "metadata": {},
   "outputs": [
    {
     "name": "stdout",
     "output_type": "stream",
     "text": [
      "91.994\n"
     ]
    }
   ],
   "source": [
    "print(F)"
   ]
  },
  {
   "cell_type": "markdown",
   "id": "e6af2978-71f7-404a-9c8b-723a19cc80f3",
   "metadata": {},
   "source": [
    "STRING BASED ANSWER 1"
   ]
  },
  {
   "cell_type": "code",
   "execution_count": 35,
   "id": "4d984ae9-afee-4f08-8c39-215e8a5f91a1",
   "metadata": {},
   "outputs": [
    {
     "name": "stdin",
     "output_type": "stream",
     "text": [
      "Enter a string:  Saurabh Dubey\n"
     ]
    }
   ],
   "source": [
    "# Taking input string from the user\n",
    "IS = input(\"Enter a string: \")\n"
   ]
  },
  {
   "cell_type": "code",
   "execution_count": 37,
   "id": "405e4336-c512-4605-b5cb-e7b0a7556c5d",
   "metadata": {},
   "outputs": [
    {
     "name": "stdout",
     "output_type": "stream",
     "text": [
      "13\n"
     ]
    }
   ],
   "source": [
    "# Calculating the length of the string\n",
    "SL = len(IS)\n",
    "print(SL)"
   ]
  },
  {
   "cell_type": "markdown",
   "id": "7dff8b0e-20c5-43b6-bb39-0ccd51daa52e",
   "metadata": {},
   "source": [
    "STRING BASED ANSWER 2\n"
   ]
  },
  {
   "cell_type": "code",
   "execution_count": 1,
   "id": "a88fee0d-a321-4013-aa03-d08a26be487a",
   "metadata": {},
   "outputs": [
    {
     "name": "stdin",
     "output_type": "stream",
     "text": [
      "enter a sentence:  I will clear CAT this year only.\n"
     ]
    }
   ],
   "source": [
    "#taking input as sentence\n",
    "x= input('enter a sentence: ')"
   ]
  },
  {
   "cell_type": "code",
   "execution_count": 5,
   "id": "78d54e53-ee9b-4eff-956b-fe3fe64cde48",
   "metadata": {},
   "outputs": [
    {
     "data": {
      "text/plain": [
       "'i will clear cat this year only.'"
      ]
     },
     "execution_count": 5,
     "metadata": {},
     "output_type": "execute_result"
    }
   ],
   "source": [
    "#converting input sentence to lower to tackle both upper and lower cases\n",
    "x= x.lower()\n",
    "x"
   ]
  },
  {
   "cell_type": "code",
   "execution_count": 6,
   "id": "2ce67d31-6481-4af4-b0b9-6d881ba9d530",
   "metadata": {},
   "outputs": [
    {
     "name": "stdout",
     "output_type": "stream",
     "text": [
      "9\n"
     ]
    }
   ],
   "source": [
    "#initializing vowel count variable \n",
    "count_v = 0\n",
    "\n",
    "#counting number of vowels \n",
    "for char in x:\n",
    "    if char in \"aeiou\":\n",
    "        count_v += 1\n",
    "        \n",
    "#printing count of vowels\n",
    "print(count_v)"
   ]
  },
  {
   "cell_type": "markdown",
   "id": "4dc68c24-7244-4e1e-9c0d-81e04ecd02df",
   "metadata": {},
   "source": [
    "STRING BASED ANSWER 3\n"
   ]
  },
  {
   "cell_type": "code",
   "execution_count": 8,
   "id": "c1b6b742-defd-41e2-b6d1-e7a0990956fc",
   "metadata": {},
   "outputs": [],
   "source": [
    "#taking string\n",
    "X= 'SaurabhDubey'"
   ]
  },
  {
   "cell_type": "code",
   "execution_count": 10,
   "id": "4aa8de11-e540-4a29-8d17-d5f002e35573",
   "metadata": {},
   "outputs": [
    {
     "data": {
      "text/plain": [
       "'yebuDhbaruaS'"
      ]
     },
     "execution_count": 10,
     "metadata": {},
     "output_type": "execute_result"
    }
   ],
   "source": [
    "#reversing the string\n",
    "X[::-1]"
   ]
  },
  {
   "cell_type": "markdown",
   "id": "b591b42d-479b-4def-9902-554128dbb81a",
   "metadata": {},
   "source": [
    "STRING BASED ANSWER 4"
   ]
  },
  {
   "cell_type": "code",
   "execution_count": 11,
   "id": "ce562ec7-3c9b-409b-b9e8-c9bdaca9ceab",
   "metadata": {},
   "outputs": [
    {
     "name": "stdin",
     "output_type": "stream",
     "text": [
      " Hey I am Saurabh Dubey\n"
     ]
    }
   ],
   "source": [
    "#TAKING INPUT STRING\n",
    "x= input()"
   ]
  },
  {
   "cell_type": "code",
   "execution_count": 13,
   "id": "0fb45987-f64b-46f0-952a-c99c70f426a4",
   "metadata": {},
   "outputs": [
    {
     "data": {
      "text/plain": [
       "'heyiamsaurabhdubey'"
      ]
     },
     "execution_count": 13,
     "metadata": {},
     "output_type": "execute_result"
    }
   ],
   "source": [
    "#converting input to lower case and removing all spaces\n",
    "x= x.replace(\" \",\"\").lower()\n",
    "x"
   ]
  },
  {
   "cell_type": "code",
   "execution_count": 15,
   "id": "c330f1ad-d9a0-482e-9abe-010bd7e9a6b1",
   "metadata": {},
   "outputs": [
    {
     "data": {
      "text/plain": [
       "'yebudhbaruasmaiyeh'"
      ]
     },
     "execution_count": 15,
     "metadata": {},
     "output_type": "execute_result"
    }
   ],
   "source": [
    "#reversing the input\n",
    "y= x[::-1]\n",
    "y"
   ]
  },
  {
   "cell_type": "code",
   "execution_count": 24,
   "id": "d7b134c7-54dd-4e8b-b621-2235109e687a",
   "metadata": {},
   "outputs": [
    {
     "name": "stdout",
     "output_type": "stream",
     "text": [
      "not palindrome\n"
     ]
    }
   ],
   "source": [
    "#checking for palindrome\n",
    "if x==y:\n",
    "     print('palindrome')\n",
    "else: print('not palindrome')\n",
    "    "
   ]
  },
  {
   "cell_type": "markdown",
   "id": "ee1f0783-472b-498f-b96d-5647024b05fb",
   "metadata": {},
   "source": [
    "STRING BASED ANSWER 5"
   ]
  },
  {
   "cell_type": "code",
   "execution_count": 25,
   "id": "7069d938-6c33-43b0-8438-7f0e287884a7",
   "metadata": {},
   "outputs": [
    {
     "name": "stdin",
     "output_type": "stream",
     "text": [
      " Hey I will clear cat this year only.\n"
     ]
    }
   ],
   "source": [
    "#taking input string\n",
    "x= input()"
   ]
  },
  {
   "cell_type": "code",
   "execution_count": 28,
   "id": "8e0de782-522a-43a8-8c30-b09efe313a24",
   "metadata": {},
   "outputs": [
    {
     "name": "stdout",
     "output_type": "stream",
     "text": [
      "HeyIwillclearcatthisyearonly.\n"
     ]
    }
   ],
   "source": [
    "#removing spaces from the input\n",
    "x=x.replace(\" \",\"\")\n",
    "print(x)"
   ]
  },
  {
   "cell_type": "code",
   "execution_count": 39,
   "id": "b244b3ee-a009-4a7d-b063-e5599cb069c6",
   "metadata": {},
   "outputs": [
    {
     "data": {
      "text/plain": [
       "'saurabh,hello!'"
      ]
     },
     "execution_count": 39,
     "metadata": {},
     "output_type": "execute_result"
    }
   ],
   "source": [
    "x= \"saurabh,hello!\"\n",
    "x \" \""
   ]
  },
  {
   "cell_type": "code",
   "execution_count": null,
   "id": "4e7c5095-1395-4364-9d63-bf65acbab473",
   "metadata": {},
   "outputs": [],
   "source": []
  }
 ],
 "metadata": {
  "kernelspec": {
   "display_name": "Python 3 (ipykernel)",
   "language": "python",
   "name": "python3"
  },
  "language_info": {
   "codemirror_mode": {
    "name": "ipython",
    "version": 3
   },
   "file_extension": ".py",
   "mimetype": "text/x-python",
   "name": "python",
   "nbconvert_exporter": "python",
   "pygments_lexer": "ipython3",
   "version": "3.10.8"
  }
 },
 "nbformat": 4,
 "nbformat_minor": 5
}
